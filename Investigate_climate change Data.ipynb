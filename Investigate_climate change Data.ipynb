{
 "cells": [
  {
   "cell_type": "markdown",
   "metadata": {},
   "source": [
    "\n",
    "\n",
    "# Project: Investigate impact of Global warming and effective parameters on co2 Emissiona \n",
    "\n",
    "## Table of Contents\n",
    "<ul>\n",
    "<li><a href=\"#intro\">Introduction</a></li>\n",
    "<li><a href=\"#wrangling\">Data Wrangling</a></li>\n",
    "<li><a href=\"#eda\">Exploratory Data Analysis</a></li>\n",
    "<li><a href=\"#conclusions\">Conclusions</a></li>\n",
    "</ul>"
   ]
  },
  {
   "cell_type": "markdown",
   "metadata": {},
   "source": [
    "<a id='intro'></a>\n",
    "## Introduction\n",
    "\n",
    "> **Tip**: Tip: Global warming causes alot of changes in enviornment. Researches show that globals'tempreture has increased by 1 to 2 degree each year and intensity of precipitation has changed in some area it has been increased and some area it has beed decreased. Recent floods and storms are the best examples of these environment change, every years alot of peaple affected by Flood and Storm and it cause a huge amount of cost to the society. there are lots of studies to find out what are the main effective parameters on these changes. researchers beleives in growing population and co2 Emisison are the main parameters in these changes. in this research data from five countries Brazil,India, United State, Australia,Netherland has been selected and selective effective parameters are flood affected and storm affected that counts the number of peaple injured or killed and effected by flood and storm respectly and co2 emission which shows the total co2 emission in each year on selected country. percentage of population growth each years and forest covarages are other selected parameters. by choosing this parameter we wanted to see how increasing population and decreasing forest covarage will increase flood and storm events and which country are more responsible in producing co2 emission. these reserch will showes which country produced and emitted more Co2 and do increasing in populationa and decreasing in forest covarage have any impacts on co2 emission? which parameters has more imact on flood and storm impact.\n",
    "\n",
    ">in this reasearch we will find which country produce more Co2?\n",
    "\n",
    ">which country has more urbanizaition by increasing population rate?\n",
    "\n",
    ">which country has been more effected by flood and storm? in anothe word climate change on which country has more influances?\n",
    "\n",
    ">is decreasing rate of forest covarage has effect on co2 emssion?\n",
    "\n",
    ">is decreasing rate of forest covarage and increasing rate of population impacts on Co2 emission"
   ]
  },
  {
   "cell_type": "code",
   "execution_count": 140,
   "metadata": {},
   "outputs": [],
   "source": [
    "import numpy as np\n",
    "import pandas as pd\n",
    "import matplotlib.pyplot as plt\n",
    "import seaborn as sns\n",
    "%matplotlib inline\n"
   ]
  },
  {
   "cell_type": "markdown",
   "metadata": {},
   "source": [
    "<a id='wrangling'></a>\n",
    "## Data Wrangling\n",
    "\n",
    "> **Tip**:  Data were dowloaded from gapminder and saved in excel files and each sheet were specified for one country and data in section will read and load for more works. \n",
    "\n",
    "### General Properties"
   ]
  },
  {
   "cell_type": "code",
   "execution_count": 141,
   "metadata": {},
   "outputs": [
    {
     "data": {
      "text/html": [
       "<div>\n",
       "<style scoped>\n",
       "    .dataframe tbody tr th:only-of-type {\n",
       "        vertical-align: middle;\n",
       "    }\n",
       "\n",
       "    .dataframe tbody tr th {\n",
       "        vertical-align: top;\n",
       "    }\n",
       "\n",
       "    .dataframe thead th {\n",
       "        text-align: right;\n",
       "    }\n",
       "</style>\n",
       "<table border=\"1\" class=\"dataframe\">\n",
       "  <thead>\n",
       "    <tr style=\"text-align: right;\">\n",
       "      <th></th>\n",
       "      <th>Date</th>\n",
       "      <th>Storm</th>\n",
       "      <th>Flood</th>\n",
       "      <th>Pop</th>\n",
       "      <th>Co2Emission</th>\n",
       "      <th>Forest</th>\n",
       "    </tr>\n",
       "  </thead>\n",
       "  <tbody>\n",
       "    <tr>\n",
       "      <th>count</th>\n",
       "      <td>59.000000</td>\n",
       "      <td>3.900000e+01</td>\n",
       "      <td>39.00000</td>\n",
       "      <td>5.900000e+01</td>\n",
       "      <td>58.000000</td>\n",
       "      <td>26.000000</td>\n",
       "    </tr>\n",
       "    <tr>\n",
       "      <th>mean</th>\n",
       "      <td>1990.000000</td>\n",
       "      <td>1.028892e+05</td>\n",
       "      <td>2550.00000</td>\n",
       "      <td>1.674237e+07</td>\n",
       "      <td>271422.413793</td>\n",
       "      <td>0.165308</td>\n",
       "    </tr>\n",
       "    <tr>\n",
       "      <th>std</th>\n",
       "      <td>17.175564</td>\n",
       "      <td>4.685947e+05</td>\n",
       "      <td>4960.41121</td>\n",
       "      <td>4.605776e+06</td>\n",
       "      <td>105750.452768</td>\n",
       "      <td>0.002797</td>\n",
       "    </tr>\n",
       "    <tr>\n",
       "      <th>min</th>\n",
       "      <td>1961.000000</td>\n",
       "      <td>0.000000e+00</td>\n",
       "      <td>0.00000</td>\n",
       "      <td>1.700000e-02</td>\n",
       "      <td>90600.000000</td>\n",
       "      <td>0.160000</td>\n",
       "    </tr>\n",
       "    <tr>\n",
       "      <th>25%</th>\n",
       "      <td>1975.500000</td>\n",
       "      <td>0.000000e+00</td>\n",
       "      <td>0.00000</td>\n",
       "      <td>1.370000e+07</td>\n",
       "      <td>174500.000000</td>\n",
       "      <td>0.162250</td>\n",
       "    </tr>\n",
       "    <tr>\n",
       "      <th>50%</th>\n",
       "      <td>1990.000000</td>\n",
       "      <td>2.700000e+01</td>\n",
       "      <td>9.00000</td>\n",
       "      <td>1.670000e+07</td>\n",
       "      <td>278500.000000</td>\n",
       "      <td>0.167000</td>\n",
       "    </tr>\n",
       "    <tr>\n",
       "      <th>75%</th>\n",
       "      <td>2004.500000</td>\n",
       "      <td>1.275000e+03</td>\n",
       "      <td>3310.00000</td>\n",
       "      <td>1.975000e+07</td>\n",
       "      <td>380500.000000</td>\n",
       "      <td>0.167750</td>\n",
       "    </tr>\n",
       "    <tr>\n",
       "      <th>max</th>\n",
       "      <td>2019.000000</td>\n",
       "      <td>2.860000e+06</td>\n",
       "      <td>20500.00000</td>\n",
       "      <td>2.490000e+07</td>\n",
       "      <td>421000.000000</td>\n",
       "      <td>0.168000</td>\n",
       "    </tr>\n",
       "  </tbody>\n",
       "</table>\n",
       "</div>"
      ],
      "text/plain": [
       "              Date         Storm        Flood           Pop    Co2Emission  \\\n",
       "count    59.000000  3.900000e+01     39.00000  5.900000e+01      58.000000   \n",
       "mean   1990.000000  1.028892e+05   2550.00000  1.674237e+07  271422.413793   \n",
       "std      17.175564  4.685947e+05   4960.41121  4.605776e+06  105750.452768   \n",
       "min    1961.000000  0.000000e+00      0.00000  1.700000e-02   90600.000000   \n",
       "25%    1975.500000  0.000000e+00      0.00000  1.370000e+07  174500.000000   \n",
       "50%    1990.000000  2.700000e+01      9.00000  1.670000e+07  278500.000000   \n",
       "75%    2004.500000  1.275000e+03   3310.00000  1.975000e+07  380500.000000   \n",
       "max    2019.000000  2.860000e+06  20500.00000  2.490000e+07  421000.000000   \n",
       "\n",
       "          Forest  \n",
       "count  26.000000  \n",
       "mean    0.165308  \n",
       "std     0.002797  \n",
       "min     0.160000  \n",
       "25%     0.162250  \n",
       "50%     0.167000  \n",
       "75%     0.167750  \n",
       "max     0.168000  "
      ]
     },
     "execution_count": 141,
     "metadata": {},
     "output_type": "execute_result"
    }
   ],
   "source": [
    "# Load your data and print out a few lines. Perform operations to inspect data\n",
    "#   types and look for instances of missing or possibly errant data.\n",
    "dfAust=pd.read_excel('Data_4.xlsx', sheet_name='Australia')\n",
    "dfIndia=pd.read_excel('Data_4.xlsx', sheet_name='India')\n",
    "dfNether=pd.read_excel('Data_4.xlsx', sheet_name='Netherland')\n",
    "dfBrazil=pd.read_excel('Data_4.xlsx', sheet_name='Brazil')\n",
    "dfUSA=pd.read_excel('Data_4.xlsx', sheet_name='USA')\n",
    "dfAust.head()\n",
    "dfAust.head()\n",
    "dfAust.shape\n",
    "dfAust.describe()"
   ]
  },
  {
   "cell_type": "code",
   "execution_count": 142,
   "metadata": {},
   "outputs": [
    {
     "data": {
      "text/html": [
       "<div>\n",
       "<style scoped>\n",
       "    .dataframe tbody tr th:only-of-type {\n",
       "        vertical-align: middle;\n",
       "    }\n",
       "\n",
       "    .dataframe tbody tr th {\n",
       "        vertical-align: top;\n",
       "    }\n",
       "\n",
       "    .dataframe thead th {\n",
       "        text-align: right;\n",
       "    }\n",
       "</style>\n",
       "<table border=\"1\" class=\"dataframe\">\n",
       "  <thead>\n",
       "    <tr style=\"text-align: right;\">\n",
       "      <th></th>\n",
       "      <th>Date</th>\n",
       "      <th>Storm</th>\n",
       "      <th>Flood</th>\n",
       "      <th>Pop</th>\n",
       "      <th>Co2Emission</th>\n",
       "      <th>Forest</th>\n",
       "    </tr>\n",
       "  </thead>\n",
       "  <tbody>\n",
       "    <tr>\n",
       "      <th>count</th>\n",
       "      <td>59.000000</td>\n",
       "      <td>3.900000e+01</td>\n",
       "      <td>3.900000e+01</td>\n",
       "      <td>5.900000e+01</td>\n",
       "      <td>5.800000e+01</td>\n",
       "      <td>26.000000</td>\n",
       "    </tr>\n",
       "    <tr>\n",
       "      <th>mean</th>\n",
       "      <td>1990.000000</td>\n",
       "      <td>2.020907e+06</td>\n",
       "      <td>1.995175e+07</td>\n",
       "      <td>8.648136e+08</td>\n",
       "      <td>8.299655e+05</td>\n",
       "      <td>0.225308</td>\n",
       "    </tr>\n",
       "    <tr>\n",
       "      <th>std</th>\n",
       "      <td>17.175564</td>\n",
       "      <td>3.624991e+06</td>\n",
       "      <td>2.290266e+07</td>\n",
       "      <td>3.007912e+08</td>\n",
       "      <td>7.063298e+05</td>\n",
       "      <td>0.007964</td>\n",
       "    </tr>\n",
       "    <tr>\n",
       "      <th>min</th>\n",
       "      <td>1961.000000</td>\n",
       "      <td>0.000000e+00</td>\n",
       "      <td>0.000000e+00</td>\n",
       "      <td>2.310000e-02</td>\n",
       "      <td>1.300000e+05</td>\n",
       "      <td>0.215000</td>\n",
       "    </tr>\n",
       "    <tr>\n",
       "      <th>25%</th>\n",
       "      <td>1975.500000</td>\n",
       "      <td>8.105000e+03</td>\n",
       "      <td>2.060000e+06</td>\n",
       "      <td>6.160000e+08</td>\n",
       "      <td>2.540000e+05</td>\n",
       "      <td>0.218250</td>\n",
       "    </tr>\n",
       "    <tr>\n",
       "      <th>50%</th>\n",
       "      <td>1990.000000</td>\n",
       "      <td>1.050000e+05</td>\n",
       "      <td>1.600000e+07</td>\n",
       "      <td>8.550000e+08</td>\n",
       "      <td>5.970000e+05</td>\n",
       "      <td>0.224000</td>\n",
       "    </tr>\n",
       "    <tr>\n",
       "      <th>75%</th>\n",
       "      <td>2004.500000</td>\n",
       "      <td>2.600000e+06</td>\n",
       "      <td>3.115000e+07</td>\n",
       "      <td>1.120000e+09</td>\n",
       "      <td>1.135000e+06</td>\n",
       "      <td>0.232750</td>\n",
       "    </tr>\n",
       "    <tr>\n",
       "      <th>max</th>\n",
       "      <td>2019.000000</td>\n",
       "      <td>1.450000e+07</td>\n",
       "      <td>1.280000e+08</td>\n",
       "      <td>1.350000e+09</td>\n",
       "      <td>2.660000e+06</td>\n",
       "      <td>0.238000</td>\n",
       "    </tr>\n",
       "  </tbody>\n",
       "</table>\n",
       "</div>"
      ],
      "text/plain": [
       "              Date         Storm         Flood           Pop   Co2Emission  \\\n",
       "count    59.000000  3.900000e+01  3.900000e+01  5.900000e+01  5.800000e+01   \n",
       "mean   1990.000000  2.020907e+06  1.995175e+07  8.648136e+08  8.299655e+05   \n",
       "std      17.175564  3.624991e+06  2.290266e+07  3.007912e+08  7.063298e+05   \n",
       "min    1961.000000  0.000000e+00  0.000000e+00  2.310000e-02  1.300000e+05   \n",
       "25%    1975.500000  8.105000e+03  2.060000e+06  6.160000e+08  2.540000e+05   \n",
       "50%    1990.000000  1.050000e+05  1.600000e+07  8.550000e+08  5.970000e+05   \n",
       "75%    2004.500000  2.600000e+06  3.115000e+07  1.120000e+09  1.135000e+06   \n",
       "max    2019.000000  1.450000e+07  1.280000e+08  1.350000e+09  2.660000e+06   \n",
       "\n",
       "          Forest  \n",
       "count  26.000000  \n",
       "mean    0.225308  \n",
       "std     0.007964  \n",
       "min     0.215000  \n",
       "25%     0.218250  \n",
       "50%     0.224000  \n",
       "75%     0.232750  \n",
       "max     0.238000  "
      ]
     },
     "execution_count": 142,
     "metadata": {},
     "output_type": "execute_result"
    }
   ],
   "source": [
    "dfIndia.describe()"
   ]
  },
  {
   "cell_type": "code",
   "execution_count": 143,
   "metadata": {},
   "outputs": [
    {
     "data": {
      "text/html": [
       "<div>\n",
       "<style scoped>\n",
       "    .dataframe tbody tr th:only-of-type {\n",
       "        vertical-align: middle;\n",
       "    }\n",
       "\n",
       "    .dataframe tbody tr th {\n",
       "        vertical-align: top;\n",
       "    }\n",
       "\n",
       "    .dataframe thead th {\n",
       "        text-align: right;\n",
       "    }\n",
       "</style>\n",
       "<table border=\"1\" class=\"dataframe\">\n",
       "  <thead>\n",
       "    <tr style=\"text-align: right;\">\n",
       "      <th></th>\n",
       "      <th>Date</th>\n",
       "      <th>Storm</th>\n",
       "      <th>Flood</th>\n",
       "      <th>Pop</th>\n",
       "      <th>Co2Emission</th>\n",
       "      <th>Forest</th>\n",
       "    </tr>\n",
       "  </thead>\n",
       "  <tbody>\n",
       "    <tr>\n",
       "      <th>count</th>\n",
       "      <td>59.000000</td>\n",
       "      <td>39.000000</td>\n",
       "      <td>39.000000</td>\n",
       "      <td>5.900000e+01</td>\n",
       "      <td>58.000000</td>\n",
       "      <td>26.000000</td>\n",
       "    </tr>\n",
       "    <tr>\n",
       "      <th>mean</th>\n",
       "      <td>1990.000000</td>\n",
       "      <td>6413.692308</td>\n",
       "      <td>384.615385</td>\n",
       "      <td>1.457966e+07</td>\n",
       "      <td>155041.379310</td>\n",
       "      <td>0.107308</td>\n",
       "    </tr>\n",
       "    <tr>\n",
       "      <th>std</th>\n",
       "      <td>17.175564</td>\n",
       "      <td>40031.477206</td>\n",
       "      <td>2097.810696</td>\n",
       "      <td>2.493770e+06</td>\n",
       "      <td>27532.539183</td>\n",
       "      <td>0.003017</td>\n",
       "    </tr>\n",
       "    <tr>\n",
       "      <th>min</th>\n",
       "      <td>1961.000000</td>\n",
       "      <td>0.000000</td>\n",
       "      <td>0.000000</td>\n",
       "      <td>1.010000e-02</td>\n",
       "      <td>75900.000000</td>\n",
       "      <td>0.102000</td>\n",
       "    </tr>\n",
       "    <tr>\n",
       "      <th>25%</th>\n",
       "      <td>1975.500000</td>\n",
       "      <td>0.000000</td>\n",
       "      <td>0.000000</td>\n",
       "      <td>1.365000e+07</td>\n",
       "      <td>144500.000000</td>\n",
       "      <td>0.105000</td>\n",
       "    </tr>\n",
       "    <tr>\n",
       "      <th>50%</th>\n",
       "      <td>1990.000000</td>\n",
       "      <td>0.000000</td>\n",
       "      <td>0.000000</td>\n",
       "      <td>1.490000e+07</td>\n",
       "      <td>165500.000000</td>\n",
       "      <td>0.107500</td>\n",
       "    </tr>\n",
       "    <tr>\n",
       "      <th>75%</th>\n",
       "      <td>2004.500000</td>\n",
       "      <td>0.000000</td>\n",
       "      <td>0.000000</td>\n",
       "      <td>1.625000e+07</td>\n",
       "      <td>172750.000000</td>\n",
       "      <td>0.109750</td>\n",
       "    </tr>\n",
       "    <tr>\n",
       "      <th>max</th>\n",
       "      <td>2019.000000</td>\n",
       "      <td>250000.000000</td>\n",
       "      <td>13000.000000</td>\n",
       "      <td>1.710000e+07</td>\n",
       "      <td>187000.000000</td>\n",
       "      <td>0.112000</td>\n",
       "    </tr>\n",
       "  </tbody>\n",
       "</table>\n",
       "</div>"
      ],
      "text/plain": [
       "              Date          Storm         Flood           Pop    Co2Emission  \\\n",
       "count    59.000000      39.000000     39.000000  5.900000e+01      58.000000   \n",
       "mean   1990.000000    6413.692308    384.615385  1.457966e+07  155041.379310   \n",
       "std      17.175564   40031.477206   2097.810696  2.493770e+06   27532.539183   \n",
       "min    1961.000000       0.000000      0.000000  1.010000e-02   75900.000000   \n",
       "25%    1975.500000       0.000000      0.000000  1.365000e+07  144500.000000   \n",
       "50%    1990.000000       0.000000      0.000000  1.490000e+07  165500.000000   \n",
       "75%    2004.500000       0.000000      0.000000  1.625000e+07  172750.000000   \n",
       "max    2019.000000  250000.000000  13000.000000  1.710000e+07  187000.000000   \n",
       "\n",
       "          Forest  \n",
       "count  26.000000  \n",
       "mean    0.107308  \n",
       "std     0.003017  \n",
       "min     0.102000  \n",
       "25%     0.105000  \n",
       "50%     0.107500  \n",
       "75%     0.109750  \n",
       "max     0.112000  "
      ]
     },
     "execution_count": 143,
     "metadata": {},
     "output_type": "execute_result"
    }
   ],
   "source": [
    "dfNether.describe()"
   ]
  },
  {
   "cell_type": "code",
   "execution_count": 104,
   "metadata": {},
   "outputs": [
    {
     "data": {
      "text/html": [
       "<div>\n",
       "<style scoped>\n",
       "    .dataframe tbody tr th:only-of-type {\n",
       "        vertical-align: middle;\n",
       "    }\n",
       "\n",
       "    .dataframe tbody tr th {\n",
       "        vertical-align: top;\n",
       "    }\n",
       "\n",
       "    .dataframe thead th {\n",
       "        text-align: right;\n",
       "    }\n",
       "</style>\n",
       "<table border=\"1\" class=\"dataframe\">\n",
       "  <thead>\n",
       "    <tr style=\"text-align: right;\">\n",
       "      <th></th>\n",
       "      <th>Date</th>\n",
       "      <th>Storm</th>\n",
       "      <th>Flood</th>\n",
       "      <th>Pop</th>\n",
       "      <th>Co2Emission</th>\n",
       "      <th>Forest</th>\n",
       "    </tr>\n",
       "  </thead>\n",
       "  <tbody>\n",
       "    <tr>\n",
       "      <th>count</th>\n",
       "      <td>59.000000</td>\n",
       "      <td>39.000000</td>\n",
       "      <td>3.900000e+01</td>\n",
       "      <td>59.000000</td>\n",
       "      <td>58.000000</td>\n",
       "      <td>26.000000</td>\n",
       "    </tr>\n",
       "    <tr>\n",
       "      <th>mean</th>\n",
       "      <td>1990.000000</td>\n",
       "      <td>5404.307692</td>\n",
       "      <td>3.711351e+05</td>\n",
       "      <td>0.028900</td>\n",
       "      <td>241881.034483</td>\n",
       "      <td>0.617654</td>\n",
       "    </tr>\n",
       "    <tr>\n",
       "      <th>std</th>\n",
       "      <td>17.175564</td>\n",
       "      <td>24832.408367</td>\n",
       "      <td>7.827926e+05</td>\n",
       "      <td>0.012782</td>\n",
       "      <td>133480.789678</td>\n",
       "      <td>0.020905</td>\n",
       "    </tr>\n",
       "    <tr>\n",
       "      <th>min</th>\n",
       "      <td>1961.000000</td>\n",
       "      <td>0.000000</td>\n",
       "      <td>0.000000e+00</td>\n",
       "      <td>0.010500</td>\n",
       "      <td>49200.000000</td>\n",
       "      <td>0.590000</td>\n",
       "    </tr>\n",
       "    <tr>\n",
       "      <th>25%</th>\n",
       "      <td>1975.500000</td>\n",
       "      <td>0.000000</td>\n",
       "      <td>4.405000e+03</td>\n",
       "      <td>0.015550</td>\n",
       "      <td>152000.000000</td>\n",
       "      <td>0.598500</td>\n",
       "    </tr>\n",
       "    <tr>\n",
       "      <th>50%</th>\n",
       "      <td>1990.000000</td>\n",
       "      <td>0.000000</td>\n",
       "      <td>4.750000e+04</td>\n",
       "      <td>0.028800</td>\n",
       "      <td>210000.000000</td>\n",
       "      <td>0.615000</td>\n",
       "    </tr>\n",
       "    <tr>\n",
       "      <th>75%</th>\n",
       "      <td>2004.500000</td>\n",
       "      <td>160.000000</td>\n",
       "      <td>2.385000e+05</td>\n",
       "      <td>0.039500</td>\n",
       "      <td>333750.000000</td>\n",
       "      <td>0.635250</td>\n",
       "    </tr>\n",
       "    <tr>\n",
       "      <th>max</th>\n",
       "      <td>2019.000000</td>\n",
       "      <td>150000.000000</td>\n",
       "      <td>3.340000e+06</td>\n",
       "      <td>0.050200</td>\n",
       "      <td>524000.000000</td>\n",
       "      <td>0.654000</td>\n",
       "    </tr>\n",
       "  </tbody>\n",
       "</table>\n",
       "</div>"
      ],
      "text/plain": [
       "              Date          Storm         Flood        Pop    Co2Emission  \\\n",
       "count    59.000000      39.000000  3.900000e+01  59.000000      58.000000   \n",
       "mean   1990.000000    5404.307692  3.711351e+05   0.028900  241881.034483   \n",
       "std      17.175564   24832.408367  7.827926e+05   0.012782  133480.789678   \n",
       "min    1961.000000       0.000000  0.000000e+00   0.010500   49200.000000   \n",
       "25%    1975.500000       0.000000  4.405000e+03   0.015550  152000.000000   \n",
       "50%    1990.000000       0.000000  4.750000e+04   0.028800  210000.000000   \n",
       "75%    2004.500000     160.000000  2.385000e+05   0.039500  333750.000000   \n",
       "max    2019.000000  150000.000000  3.340000e+06   0.050200  524000.000000   \n",
       "\n",
       "          Forest  \n",
       "count  26.000000  \n",
       "mean    0.617654  \n",
       "std     0.020905  \n",
       "min     0.590000  \n",
       "25%     0.598500  \n",
       "50%     0.615000  \n",
       "75%     0.635250  \n",
       "max     0.654000  "
      ]
     },
     "execution_count": 104,
     "metadata": {},
     "output_type": "execute_result"
    }
   ],
   "source": [
    "dfBrazil.describe()"
   ]
  },
  {
   "cell_type": "code",
   "execution_count": 144,
   "metadata": {},
   "outputs": [
    {
     "data": {
      "text/html": [
       "<div>\n",
       "<style scoped>\n",
       "    .dataframe tbody tr th:only-of-type {\n",
       "        vertical-align: middle;\n",
       "    }\n",
       "\n",
       "    .dataframe tbody tr th {\n",
       "        vertical-align: top;\n",
       "    }\n",
       "\n",
       "    .dataframe thead th {\n",
       "        text-align: right;\n",
       "    }\n",
       "</style>\n",
       "<table border=\"1\" class=\"dataframe\">\n",
       "  <thead>\n",
       "    <tr style=\"text-align: right;\">\n",
       "      <th></th>\n",
       "      <th>Date</th>\n",
       "      <th>Storm</th>\n",
       "      <th>Flood</th>\n",
       "      <th>Pop</th>\n",
       "      <th>Co2Emission</th>\n",
       "      <th>Forest</th>\n",
       "    </tr>\n",
       "  </thead>\n",
       "  <tbody>\n",
       "    <tr>\n",
       "      <th>count</th>\n",
       "      <td>59.000000</td>\n",
       "      <td>3.900000e+01</td>\n",
       "      <td>3.900000e+01</td>\n",
       "      <td>5.900000e+01</td>\n",
       "      <td>5.800000e+01</td>\n",
       "      <td>26.000000</td>\n",
       "    </tr>\n",
       "    <tr>\n",
       "      <th>mean</th>\n",
       "      <td>1990.000000</td>\n",
       "      <td>3.451987e+05</td>\n",
       "      <td>3.094194e+05</td>\n",
       "      <td>2.511695e+08</td>\n",
       "      <td>4.933103e+06</td>\n",
       "      <td>0.333462</td>\n",
       "    </tr>\n",
       "    <tr>\n",
       "      <th>std</th>\n",
       "      <td>17.175564</td>\n",
       "      <td>9.968518e+05</td>\n",
       "      <td>1.757840e+06</td>\n",
       "      <td>5.301436e+07</td>\n",
       "      <td>8.588491e+05</td>\n",
       "      <td>0.003203</td>\n",
       "    </tr>\n",
       "    <tr>\n",
       "      <th>min</th>\n",
       "      <td>1961.000000</td>\n",
       "      <td>0.000000e+00</td>\n",
       "      <td>0.000000e+00</td>\n",
       "      <td>7.200000e-03</td>\n",
       "      <td>2.880000e+06</td>\n",
       "      <td>0.330000</td>\n",
       "    </tr>\n",
       "    <tr>\n",
       "      <th>25%</th>\n",
       "      <td>1975.500000</td>\n",
       "      <td>2.990000e+02</td>\n",
       "      <td>1.050000e+01</td>\n",
       "      <td>2.180000e+08</td>\n",
       "      <td>4.475000e+06</td>\n",
       "      <td>0.331000</td>\n",
       "    </tr>\n",
       "    <tr>\n",
       "      <th>50%</th>\n",
       "      <td>1990.000000</td>\n",
       "      <td>5.760000e+03</td>\n",
       "      <td>3.220000e+03</td>\n",
       "      <td>2.500000e+08</td>\n",
       "      <td>5.015000e+06</td>\n",
       "      <td>0.332000</td>\n",
       "    </tr>\n",
       "    <tr>\n",
       "      <th>75%</th>\n",
       "      <td>2004.500000</td>\n",
       "      <td>6.915000e+04</td>\n",
       "      <td>2.105000e+04</td>\n",
       "      <td>2.910000e+08</td>\n",
       "      <td>5.580000e+06</td>\n",
       "      <td>0.336750</td>\n",
       "    </tr>\n",
       "    <tr>\n",
       "      <th>max</th>\n",
       "      <td>2019.000000</td>\n",
       "      <td>5.080000e+06</td>\n",
       "      <td>1.100000e+07</td>\n",
       "      <td>3.270000e+08</td>\n",
       "      <td>6.140000e+06</td>\n",
       "      <td>0.339000</td>\n",
       "    </tr>\n",
       "  </tbody>\n",
       "</table>\n",
       "</div>"
      ],
      "text/plain": [
       "              Date         Storm         Flood           Pop   Co2Emission  \\\n",
       "count    59.000000  3.900000e+01  3.900000e+01  5.900000e+01  5.800000e+01   \n",
       "mean   1990.000000  3.451987e+05  3.094194e+05  2.511695e+08  4.933103e+06   \n",
       "std      17.175564  9.968518e+05  1.757840e+06  5.301436e+07  8.588491e+05   \n",
       "min    1961.000000  0.000000e+00  0.000000e+00  7.200000e-03  2.880000e+06   \n",
       "25%    1975.500000  2.990000e+02  1.050000e+01  2.180000e+08  4.475000e+06   \n",
       "50%    1990.000000  5.760000e+03  3.220000e+03  2.500000e+08  5.015000e+06   \n",
       "75%    2004.500000  6.915000e+04  2.105000e+04  2.910000e+08  5.580000e+06   \n",
       "max    2019.000000  5.080000e+06  1.100000e+07  3.270000e+08  6.140000e+06   \n",
       "\n",
       "          Forest  \n",
       "count  26.000000  \n",
       "mean    0.333462  \n",
       "std     0.003203  \n",
       "min     0.330000  \n",
       "25%     0.331000  \n",
       "50%     0.332000  \n",
       "75%     0.336750  \n",
       "max     0.339000  "
      ]
     },
     "execution_count": 144,
     "metadata": {},
     "output_type": "execute_result"
    }
   ],
   "source": [
    "dfUSA.describe()"
   ]
  },
  {
   "cell_type": "code",
   "execution_count": 145,
   "metadata": {},
   "outputs": [
    {
     "name": "stdout",
     "output_type": "stream",
     "text": [
      "<class 'pandas.core.frame.DataFrame'>\n",
      "RangeIndex: 59 entries, 0 to 58\n",
      "Data columns (total 6 columns):\n",
      " #   Column       Non-Null Count  Dtype  \n",
      "---  ------       --------------  -----  \n",
      " 0   Date         59 non-null     int64  \n",
      " 1   Storm        39 non-null     float64\n",
      " 2   Flood        39 non-null     float64\n",
      " 3   Pop          59 non-null     float64\n",
      " 4   Co2Emission  58 non-null     float64\n",
      " 5   Forest       26 non-null     float64\n",
      "dtypes: float64(5), int64(1)\n",
      "memory usage: 2.9 KB\n",
      "<class 'pandas.core.frame.DataFrame'>\n",
      "RangeIndex: 59 entries, 0 to 58\n",
      "Data columns (total 6 columns):\n",
      " #   Column       Non-Null Count  Dtype  \n",
      "---  ------       --------------  -----  \n",
      " 0   Date         59 non-null     int64  \n",
      " 1   Storm        39 non-null     float64\n",
      " 2   Flood        39 non-null     float64\n",
      " 3   Pop          59 non-null     float64\n",
      " 4   Co2Emission  58 non-null     float64\n",
      " 5   Forest       26 non-null     float64\n",
      "dtypes: float64(5), int64(1)\n",
      "memory usage: 2.9 KB\n",
      "<class 'pandas.core.frame.DataFrame'>\n",
      "RangeIndex: 59 entries, 0 to 58\n",
      "Data columns (total 6 columns):\n",
      " #   Column       Non-Null Count  Dtype  \n",
      "---  ------       --------------  -----  \n",
      " 0   Date         59 non-null     int64  \n",
      " 1   Storm        39 non-null     float64\n",
      " 2   Flood        39 non-null     float64\n",
      " 3   Pop          58 non-null     float64\n",
      " 4   Co2Emission  58 non-null     float64\n",
      " 5   Forest       26 non-null     float64\n",
      "dtypes: float64(5), int64(1)\n",
      "memory usage: 2.9 KB\n",
      "<class 'pandas.core.frame.DataFrame'>\n",
      "RangeIndex: 59 entries, 0 to 58\n",
      "Data columns (total 6 columns):\n",
      " #   Column       Non-Null Count  Dtype  \n",
      "---  ------       --------------  -----  \n",
      " 0   Date         59 non-null     int64  \n",
      " 1   Storm        39 non-null     float64\n",
      " 2   Flood        39 non-null     float64\n",
      " 3   Pop          59 non-null     float64\n",
      " 4   Co2Emission  58 non-null     float64\n",
      " 5   Forest       26 non-null     float64\n",
      "dtypes: float64(5), int64(1)\n",
      "memory usage: 2.9 KB\n",
      "<class 'pandas.core.frame.DataFrame'>\n",
      "RangeIndex: 59 entries, 0 to 58\n",
      "Data columns (total 6 columns):\n",
      " #   Column       Non-Null Count  Dtype  \n",
      "---  ------       --------------  -----  \n",
      " 0   Date         59 non-null     int64  \n",
      " 1   Storm        39 non-null     float64\n",
      " 2   Flood        39 non-null     float64\n",
      " 3   Pop          59 non-null     float64\n",
      " 4   Co2Emission  58 non-null     float64\n",
      " 5   Forest       26 non-null     float64\n",
      "dtypes: float64(5), int64(1)\n",
      "memory usage: 2.9 KB\n"
     ]
    }
   ],
   "source": [
    "dfIndia.info()\n",
    "dfUSA.info()\n",
    "dfBrazil.info()\n",
    "dfNether.info()\n",
    "dfAust.info()"
   ]
  },
  {
   "cell_type": "markdown",
   "metadata": {},
   "source": [
    "\n",
    "\n",
    "### Data Cleaning "
   ]
  },
  {
   "cell_type": "code",
   "execution_count": 174,
   "metadata": {},
   "outputs": [],
   "source": [
    "# > two question will be answer, so data cleaning will be doing base on the result we want to see first of all finding the\n",
    "# country that affected more from the Flood and Storm. cleaning the data for storm and Flood.\n"
   ]
  },
  {
   "cell_type": "code",
   "execution_count": 175,
   "metadata": {
    "scrolled": true
   },
   "outputs": [
    {
     "data": {
      "image/png": "[encoded data removed]",
      "text/plain": [
       "<Figure size 432x288 with 1 Axes>"
      ]
     },
     "metadata": {
      "needs_background": "light"
     },
     "output_type": "display_data"
    }
   ],
   "source": [
    "data = [dfUSA[\"Date\"], dfUSA[\"Storm\"], dfBrazil[\"Storm\"], dfNether[\"Storm\"], dfAust[\"Storm\"], dfIndia[\"Storm\"]]\n",
    "headers = [\"Date\", \"USA\", \"Brazil\", \"Netherland\", \"Australia\", \"India\"]\n",
    "df3 = pd. concat(data, axis=1, keys=headers)\n",
    "df3[(df3.isnull())]\n",
    "df3.dropna(inplace=True)\n",
    "df3\n",
    "df3.plot(x=\"Date\", y=[\"USA\", \"Brazil\", \"Netherland\", \"India\", \"Australia\"])\n",
    "plt.title('Number of person affected by storm in countries')\n",
    "plt.show()\n"
   ]
  },
  {
   "cell_type": "code",
   "execution_count": 176,
   "metadata": {},
   "outputs": [
    {
     "data": {
      "image/png": "[encoded data removed]",
      "text/plain": [
       "<Figure size 432x288 with 1 Axes>"
      ]
     },
     "metadata": {
      "needs_background": "light"
     },
     "output_type": "display_data"
    }
   ],
   "source": [
    "data = [dfUSA[\"Date\"], dfUSA[\"Flood\"], dfBrazil[\"Flood\"], dfNether[\"Flood\"], dfAust[\"Flood\"], dfIndia[\"Flood\"]]\n",
    "headers = [\"Date\", \"USA\", \"Brazil\", \"Netherland\", \"Australia\", \"India\"]\n",
    "df5 = pd. concat(data, axis=1, keys=headers)\n",
    "df5[(df5.isnull())]\n",
    "df5.dropna(inplace=True)\n",
    "df5\n",
    "df5.plot(x=\"Date\", y=[\"USA\", \"Brazil\", \"Netherland\", \"India\", \"Australia\"])\n",
    "plt.title('Number of person affected by Flood in countries')\n",
    "plt.show()\n"
   ]
  },
  {
   "cell_type": "code",
   "execution_count": 177,
   "metadata": {},
   "outputs": [
    {
     "data": {
      "text/plain": [
       "mean_Flood\n",
       "3.846154e+02    Netherland\n",
       "2.550000e+03      Autralia\n",
       "3.094194e+05           USA\n",
       "3.711351e+05       Brazil \n",
       "1.995175e+07         India\n",
       "Name: Country, dtype: object"
      ]
     },
     "execution_count": 177,
     "metadata": {},
     "output_type": "execute_result"
    }
   ],
   "source": [
    "FL1=dfUSA.Flood.mean()\n",
    "FL11=dfUSA.Flood.std()\n",
    "FL2=dfIndia.Flood.mean()\n",
    "FL22=dfIndia.Flood.std()\n",
    "FL3=dfBrazil.Flood.mean()\n",
    "FL33=dfBrazil.Flood.std()\n",
    "FL4=dfNether.Flood.mean()\n",
    "FL44=dfNether.Flood.std()\n",
    "FL5=dfAust.Flood.mean()\n",
    "FL55=dfAust.Flood.std()\n",
    "data2 = [['USA', FL1, FL11], ['India', FL2, FL22], ['Brazil ', FL3, FL33], ['Netherland', FL4, FL44], ['Autralia', FL5, FL55]]\n",
    "df2 = pd.DataFrame(data2, columns = ['Country', 'mean_Flood', 'std_Flood']) \n",
    "df2.groupby('mean_Flood').Country.max()\n"
   ]
  },
  {
   "cell_type": "code",
   "execution_count": 178,
   "metadata": {},
   "outputs": [
    {
     "data": {
      "text/plain": [
       "mean_Storm\n",
       "5.404308e+03       Brazil \n",
       "6.413692e+03    Netherland\n",
       "1.028892e+05      Autralia\n",
       "3.451987e+05           USA\n",
       "2.020907e+06         India\n",
       "Name: Country, dtype: object"
      ]
     },
     "execution_count": 178,
     "metadata": {},
     "output_type": "execute_result"
    }
   ],
   "source": [
    "S1=dfUSA.Storm.mean()\n",
    "S11=dfUSA.Storm.std()\n",
    "S2=dfIndia.Storm.mean()\n",
    "S22=dfIndia.Storm.std()\n",
    "S3=dfBrazil.Storm.mean()\n",
    "S33=dfBrazil.Storm.std()\n",
    "S4=dfNether.Storm.mean()\n",
    "S44=dfNether.Storm.std()\n",
    "S5=dfAust.Storm.mean()\n",
    "S55=dfAust.Storm.std()\n",
    "data3 = [['USA', S1, S11], ['India', S2, S22], ['Brazil ', S3, S33], ['Netherland', S4, S44], ['Autralia', S5, S55]]\n",
    "df1 = pd.DataFrame(data3, columns = ['Country', 'mean_Storm', 'std_Storm']) \n",
    "df1.groupby('mean_Storm').Country.max()\n"
   ]
  },
  {
   "cell_type": "code",
   "execution_count": 179,
   "metadata": {},
   "outputs": [
    {
     "data": {
      "image/png": "[encoded data removed]",
      "text/plain": [
       "<Figure size 432x288 with 1 Axes>"
      ]
     },
     "metadata": {
      "needs_background": "light"
     },
     "output_type": "display_data"
    }
   ],
   "source": [
    "data = [dfUSA[\"Date\"], dfUSA[\"Co2Emission\"], dfBrazil[\"Co2Emission\"], dfNether[\"Co2Emission\"], dfAust[\"Co2Emission\"], dfIndia[\"Co2Emission\"]]\n",
    "headers = [\"Date\", \"USA\", \"Brazil\", \"Netherland\", \"Australia\", \"India\"]\n",
    "df33 = pd. concat(data, axis=1, keys=headers)\n",
    "df33[(df33.isnull())]\n",
    "df33.dropna(inplace=True)\n",
    "df33\n",
    "df33.plot(x=\"Date\", y=[\"USA\", \"Brazil\", \"Netherland\", \"India\", \"Australia\"])\n",
    "plt.title('Co2 Emission by countries')\n",
    "plt.show()"
   ]
  },
  {
   "cell_type": "code",
   "execution_count": 180,
   "metadata": {},
   "outputs": [
    {
     "data": {
      "text/plain": [
       "mean_Co2Emission\n",
       "1.550414e+05    Netherland\n",
       "2.418810e+05       Brazil \n",
       "2.714224e+05      Autralia\n",
       "8.299655e+05         India\n",
       "4.933103e+06           USA\n",
       "Name: Country, dtype: object"
      ]
     },
     "execution_count": 180,
     "metadata": {},
     "output_type": "execute_result"
    }
   ],
   "source": [
    "C1=dfUSA.Co2Emission.mean()\n",
    "C11=dfUSA.Co2Emission.std()\n",
    "C2=dfIndia.Co2Emission.mean()\n",
    "C22=dfIndia.Co2Emission.std()\n",
    "C3=dfBrazil.Co2Emission.mean()\n",
    "C33=dfBrazil.Co2Emission.std()\n",
    "C4=dfNether.Co2Emission.mean()\n",
    "C44=dfNether.Co2Emission.std()\n",
    "C5=dfAust.Co2Emission.mean()\n",
    "C55=dfAust.Co2Emission.std()\n",
    "data18 = [['USA', C1, C11], ['India', C2, C22], ['Brazil ', C3, C33], ['Netherland', C4, C44], ['Autralia', C5, C55]]\n",
    "dfC1 = pd.DataFrame(data18, columns = ['Country', 'mean_Co2Emission', 'std_C02Emission']) \n",
    "dfC1\n",
    "dfC1.groupby('mean_Co2Emission').Country.max()"
   ]
  },
  {
   "cell_type": "markdown",
   "metadata": {},
   "source": [
    "<a id='eda'></a>\n",
    "## Exploratory Data Analysis\n",
    "\n",
    "> **Tip**: Data were trimed and Null data where extracted from downloaded data, actually data where sorted by excel and most work have done here was defining different dataframe with requiered data.\n",
    "\n",
    "### Research Question 1 (which country is the producer of Co2 amoung selected country? \n",
    "As it was calculated and visulized in plot USA is main producer of Co2 and after that India produced more what is obvious in diagram by the year production of Co2 has been increased and they are in increasing trend.\n",
    "among all the country India has been more affected by flood and storm during the year of (1970-2008). data werenot available for the time after that."
   ]
  },
  {
   "cell_type": "code",
   "execution_count": 181,
   "metadata": {},
   "outputs": [
    {
     "data": {
      "text/plain": [
       "mean_Co2Emission\n",
       "1.550414e+05    Netherland\n",
       "2.418810e+05       Brazil \n",
       "2.714224e+05      Autralia\n",
       "8.299655e+05         India\n",
       "4.933103e+06           USA\n",
       "Name: Country, dtype: object"
      ]
     },
     "execution_count": 181,
     "metadata": {},
     "output_type": "execute_result"
    }
   ],
   "source": [
    "dfC1.groupby('mean_Co2Emission').Country.max()"
   ]
  },
  {
   "cell_type": "code",
   "execution_count": 182,
   "metadata": {},
   "outputs": [],
   "source": [
    "#   Research Question 2  (Relationship between the forest covarage and population increased rate and co2 Emission!)"
   ]
  },
  {
   "cell_type": "code",
   "execution_count": 183,
   "metadata": {},
   "outputs": [
    {
     "data": {
      "image/png": "[encoded data removed]",
      "text/plain": [
       "<Figure size 432x288 with 1 Axes>"
      ]
     },
     "metadata": {
      "needs_background": "light"
     },
     "output_type": "display_data"
    }
   ],
   "source": [
    "data = [dfUSA[\"Date\"], dfUSA[\"Pop\"], dfBrazil[\"Pop\"], dfNether[\"Pop\"], dfAust[\"Pop\"], dfIndia[\"Pop\"]]\n",
    "headers = [\"Date\", \"USA\", \"Brazil\", \"Netherland\", \"Australia\", \"India\"]\n",
    "df38 = pd. concat(data, axis=1, keys=headers)\n",
    "df38[(df38.isnull())]\n",
    "df38.dropna(inplace=True)\n",
    "df38\n",
    "df38.plot(x=\"Date\", y=[\"USA\", \"Brazil\", \"Netherland\", \"India\", \"Australia\"])\n",
    "plt.title('growing population rate in different countries')\n",
    "plt.show()"
   ]
  },
  {
   "cell_type": "code",
   "execution_count": 184,
   "metadata": {},
   "outputs": [
    {
     "name": "stdout",
     "output_type": "stream",
     "text": [
      "Pearson correlation coefficient India:\n",
      "                  Pop  Co2Emission\n",
      "Pop          1.000000     0.940491\n",
      "Co2Emission  0.940491     1.000000\n",
      "Pearson correlation coefficient USA:\n",
      "                  Pop  Co2Emission\n",
      "Pop          1.000000     0.852215\n",
      "Co2Emission  0.852215     1.000000\n"
     ]
    },
    {
     "data": {
      "text/plain": [
       "Text(0.5, 1.0, 'Corrolation between Co2 emission and population in USA')"
      ]
     },
     "execution_count": 184,
     "metadata": {},
     "output_type": "execute_result"
    },
    {
     "data": {
      "image/png": "[encoded data removed]",
      "text/plain": [
       "<Figure size 432x288 with 1 Axes>"
      ]
     },
     "metadata": {
      "needs_background": "light"
     },
     "output_type": "display_data"
    },
    {
     "data": {
      "image/png": "[encoded data removed]",
      "text/plain": [
       "<Figure size 432x288 with 1 Axes>"
      ]
     },
     "metadata": {
      "needs_background": "light"
     },
     "output_type": "display_data"
    }
   ],
   "source": [
    "data39 = [dfIndia[\"Pop\"], dfIndia[\"Co2Emission\"]]\n",
    "headers = [\"Pop\", \"Co2Emission\"]\n",
    "df39 = pd. concat(data39, axis=1, keys=headers)\n",
    "df39[(df39.isnull())]\n",
    "df39.dropna(inplace=True)\n",
    "corrrelation = df39.corr(method=\"pearson\")\n",
    "print(\"Pearson correlation coefficient India:\")\n",
    "print(corrrelation);\n",
    "df39.plot(x=\"Pop\", y=\"Co2Emission\", kind=\"scatter\")\n",
    "plt.title('Corrolation between Co2 emission and population in India')\n",
    "data40 = [dfUSA[\"Pop\"], dfUSA[\"Co2Emission\"]]\n",
    "headers = [\"Pop\", \"Co2Emission\"]\n",
    "df40 = pd. concat(data40, axis=1, keys=headers)\n",
    "df40[(df40.isnull())]\n",
    "df40.dropna(inplace=True)\n",
    "corrrelation = df40.corr(method=\"pearson\")\n",
    "print(\"Pearson correlation coefficient USA:\")\n",
    "print(corrrelation);\n",
    "df40.plot(x=\"Pop\", y=\"Co2Emission\", kind=\"scatter\")\n",
    "plt.title('Corrolation between Co2 emission and population in USA')"
   ]
  },
  {
   "cell_type": "code",
   "execution_count": 173,
   "metadata": {},
   "outputs": [
    {
     "name": "stdout",
     "output_type": "stream",
     "text": [
      "Pearson correlation coefficient India:\n",
      "               Forest  Co2Emission\n",
      "Forest       1.000000     0.968526\n",
      "Co2Emission  0.968526     1.000000\n",
      "Pearson correlation coefficient USA:\n",
      "               Forest  Co2Emission\n",
      "Forest       1.000000     0.030871\n",
      "Co2Emission  0.030871     1.000000\n"
     ]
    },
    {
     "data": {
      "text/plain": [
       "Text(0.5, 1.0, 'Corrolation between Co2 emission and population in USA')"
      ]
     },
     "execution_count": 173,
     "metadata": {},
     "output_type": "execute_result"
    },
    {
     "data": {
      "image/png": "[encoded data removed]",
      "text/plain": [
       "<Figure size 432x288 with 1 Axes>"
      ]
     },
     "metadata": {
      "needs_background": "light"
     },
     "output_type": "display_data"
    },
    {
     "data": {
      "image/png": "[encoded data removed]",
      "text/plain": [
       "<Figure size 432x288 with 1 Axes>"
      ]
     },
     "metadata": {
      "needs_background": "light"
     },
     "output_type": "display_data"
    }
   ],
   "source": [
    "data41 = [dfIndia[\"Forest\"], dfIndia[\"Co2Emission\"]]\n",
    "headers = [\"Forest\", \"Co2Emission\"]\n",
    "df41 = pd. concat(data41, axis=1, keys=headers)\n",
    "df41[(df41.isnull())]\n",
    "df41.dropna(inplace=True)\n",
    "corrrelation = df41.corr(method=\"pearson\")\n",
    "print(\"Pearson correlation coefficient India:\")\n",
    "print(corrrelation);\n",
    "df41.plot(x=\"Forest\", y=\"Co2Emission\", kind=\"scatter\")\n",
    "plt.title('Corrolation between Co2 emission and Forest covarage percentage in India')\n",
    "data42 = [dfUSA[\"Forest\"], dfUSA[\"Co2Emission\"]]\n",
    "headers = [\"Forest\", \"Co2Emission\"]\n",
    "df42 = pd.concat(data42, axis=1, keys=headers)\n",
    "df42[(df42.isnull())]\n",
    "df42.dropna(inplace=True)\n",
    "corrrelation = df42.corr(method=\"pearson\")\n",
    "print(\"Pearson correlation coefficient USA:\")\n",
    "print(corrrelation);\n",
    "df42.plot(x=\"Forest\", y=\"Co2Emission\", kind=\"scatter\")\n",
    "plt.title('Corrolation between Co2 emission and population in USA')"
   ]
  },
  {
   "cell_type": "markdown",
   "metadata": {},
   "source": [
    "<a id='conclusions'></a>\n",
    "## Conclusions\n",
    "\n",
    "> **Tip**: \n",
    "Results show that peaple in India has been effected more by Flood and Storm and also results shows tha after India USA has effected by Storm. what is clear in plots that there is increse after years but there is limitation in data. data for effected peaple by storm and flood are avilable by 2008, so we couldnt see effect of climate change in recent years.  To answer the second question at first figure shows that Co2 emission has increased by years and in 2018 we have maximum production of Co2, in comprasion of countries in producing Co2 India plays important role and after that USA is in second level, what is important for us finding the corrolation between growing population and co2 Emissiion, corrolation analysis shows that increasing population in india plays main role and covarage of forest has relationship with Co2 Emission in india but not as much as population growth.\n",
    "Having more data as precipitation rate and temperature would give us good understanding of climate change, it will suggest to find the qood source of data for good analysis.\n",
    "\n",
    "## Submitting your Project \n",
    "\n",
    "> Data from gapminder were downloaded the object of projects was finding the effective parameter of climate change on environment but data were not enough so for finding the impact of climate change, the data of storm and flood selected these data showes that in each country, how many of peaple effected by storm and flood, these data were availble until 2008, For sure having data unnit 2018 will help us a lot in finding the trend of incresing in occurance of flood and storm. by the way results shows india has been more effected by storm and flood and after that USA is in second rank. \n",
    "> second step was finding Co2Emission in which shows which country produce more Co2 since Co2 is main source in producing green house gases, which cause global warming. results shows the trend of co2 Emission is increasing and India is first country in producing Co2, and second country in producing Co2 is USA.\n",
    "> a lot of parameters are responsible in increasing Co2 emission such as increasing urbanization, Factories, decreasing forest covarage and .... \n",
    "> in this section the number of population and percentage of forest covarage were compared in producing Co2. results show there is 0.94 corrolation between increasing rate of population and Co2 emission in India and 0.86 for USA. \n",
    "> data of covarage of forest werent enough, so we couldnt say defenitkey how much is the corroloation but by having these limited data the corrolation between forest covarage and co2 Emission in India .96 and for USA is .03\n",
    "\n",
    "\n",
    ">"
   ]
  },
  {
   "cell_type": "code",
   "execution_count": null,
   "metadata": {
    "collapsed": true
   },
   "outputs": [],
   "source": [
    "from subprocess import call\n",
    "call(['python', '-m', 'nbconvert', 'Investigate_a_Dataset.ipynb'])"
   ]
  }
 ],
 "metadata": {
  "kernelspec": {
   "display_name": "Python 3",
   "language": "python",
   "name": "python3"
  },
  "language_info": {
   "codemirror_mode": {
    "name": "ipython",
    "version": 3
   },
   "file_extension": ".py",
   "mimetype": "text/x-python",
   "name": "python",
   "nbconvert_exporter": "python",
   "pygments_lexer": "ipython3",
   "version": "3.8.5"
  }
 },
 "nbformat": 4,
 "nbformat_minor": 2
}
